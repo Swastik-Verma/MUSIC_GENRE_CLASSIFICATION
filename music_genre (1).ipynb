{
  "nbformat": 4,
  "nbformat_minor": 0,
  "metadata": {
    "colab": {
      "provenance": []
    },
    "kernelspec": {
      "name": "python3",
      "display_name": "Python 3"
    },
    "language_info": {
      "name": "python"
    }
  },
  "cells": [
    {
      "cell_type": "code",
      "execution_count": 1,
      "metadata": {
        "colab": {
          "base_uri": "https://localhost:8080/"
        },
        "id": "7mU24uI1RZKj",
        "outputId": "6e3ad696-f15f-4a98-c8cb-12f3e74aa7a0"
      },
      "outputs": [
        {
          "output_type": "stream",
          "name": "stdout",
          "text": [
            "Collecting python_speech_features\n",
            "  Downloading python_speech_features-0.6.tar.gz (5.6 kB)\n",
            "  Preparing metadata (setup.py) ... \u001b[?25l\u001b[?25hdone\n",
            "Building wheels for collected packages: python_speech_features\n",
            "  Building wheel for python_speech_features (setup.py) ... \u001b[?25l\u001b[?25hdone\n",
            "  Created wheel for python_speech_features: filename=python_speech_features-0.6-py3-none-any.whl size=5868 sha256=27f8a0741ce9fe7de6cf21b488ed026e0b3941320c8bee968255146f21d4d50e\n",
            "  Stored in directory: /root/.cache/pip/wheels/37/01/19/e6c69a32684ab7b2e3ea4985a571d810cf055c72600e7f9f17\n",
            "Successfully built python_speech_features\n",
            "Installing collected packages: python_speech_features\n",
            "Successfully installed python_speech_features-0.6\n"
          ]
        }
      ],
      "source": [
        "!pip install python_speech_features\n",
        "\n",
        "from python_speech_features import mfcc\n",
        "import scipy.io.wavfile as wav\n",
        "import numpy as np\n",
        "\n",
        "from tempfile import TemporaryFile\n",
        "import os\n",
        "import pickle\n",
        "import random\n",
        "import operator\n",
        "\n",
        "import math\n",
        "import numpy as np"
      ]
    },
    {
      "cell_type": "code",
      "source": [
        "# def getNeighbors(trainingSet, instance, k):\n",
        "#     distances = []\n",
        "#     for x in range (len(trainingSet)):\n",
        "#         dist = distance(trainingSet[x], instance, k )+ distance(instance, trainingSet[x], k)\n",
        "#         distances.append((trainingSet[x][2], dist))\n",
        "#     distances.sort(key=operator.itemgetter(1))\n",
        "#     neighbors = []\n",
        "#     for x in range(k):\n",
        "#         neighbors.append(distances[x][0])\n",
        "#     return neighbors"
      ],
      "metadata": {
        "id": "GRTs_fqERfuJ"
      },
      "execution_count": 2,
      "outputs": []
    },
    {
      "cell_type": "code",
      "source": [
        "def nearestClass(neighbors):\n",
        "    classVote = {}\n",
        "\n",
        "    for x in range(len(neighbors)):\n",
        "        response = neighbors[x]\n",
        "        if response in classVote:\n",
        "            classVote[response]+=1\n",
        "        else:\n",
        "            classVote[response]=1\n",
        "\n",
        "    sorter = sorted(classVote.items(), key = operator.itemgetter(1), reverse=True)\n",
        "    return sorter[0][0]"
      ],
      "metadata": {
        "id": "MilS4gnUSEoE"
      },
      "execution_count": 3,
      "outputs": []
    },
    {
      "cell_type": "code",
      "source": [
        "def getAccuracy(testSet, predictions):\n",
        "    correct = 0\n",
        "    for x in range (len(testSet)):\n",
        "        if testSet[x][-1]==predictions[x]:\n",
        "            correct+=1\n",
        "    return 1.0*correct/len(testSet)"
      ],
      "metadata": {
        "id": "ShJ89pMISkEe"
      },
      "execution_count": 4,
      "outputs": []
    },
    {
      "cell_type": "code",
      "source": [
        "from google.colab import files\n",
        "files.upload()"
      ],
      "metadata": {
        "id": "piuXdsBwa9cY",
        "colab": {
          "base_uri": "https://localhost:8080/",
          "height": 92
        },
        "outputId": "a0a4c5c2-8487-454f-8f31-31aa262a1911"
      },
      "execution_count": 6,
      "outputs": [
        {
          "output_type": "display_data",
          "data": {
            "text/plain": [
              "<IPython.core.display.HTML object>"
            ],
            "text/html": [
              "\n",
              "     <input type=\"file\" id=\"files-bf49488f-c6eb-4262-b225-32d023079490\" name=\"files[]\" multiple disabled\n",
              "        style=\"border:none\" />\n",
              "     <output id=\"result-bf49488f-c6eb-4262-b225-32d023079490\">\n",
              "      Upload widget is only available when the cell has been executed in the\n",
              "      current browser session. Please rerun this cell to enable.\n",
              "      </output>\n",
              "      <script>// Copyright 2017 Google LLC\n",
              "//\n",
              "// Licensed under the Apache License, Version 2.0 (the \"License\");\n",
              "// you may not use this file except in compliance with the License.\n",
              "// You may obtain a copy of the License at\n",
              "//\n",
              "//      http://www.apache.org/licenses/LICENSE-2.0\n",
              "//\n",
              "// Unless required by applicable law or agreed to in writing, software\n",
              "// distributed under the License is distributed on an \"AS IS\" BASIS,\n",
              "// WITHOUT WARRANTIES OR CONDITIONS OF ANY KIND, either express or implied.\n",
              "// See the License for the specific language governing permissions and\n",
              "// limitations under the License.\n",
              "\n",
              "/**\n",
              " * @fileoverview Helpers for google.colab Python module.\n",
              " */\n",
              "(function(scope) {\n",
              "function span(text, styleAttributes = {}) {\n",
              "  const element = document.createElement('span');\n",
              "  element.textContent = text;\n",
              "  for (const key of Object.keys(styleAttributes)) {\n",
              "    element.style[key] = styleAttributes[key];\n",
              "  }\n",
              "  return element;\n",
              "}\n",
              "\n",
              "// Max number of bytes which will be uploaded at a time.\n",
              "const MAX_PAYLOAD_SIZE = 100 * 1024;\n",
              "\n",
              "function _uploadFiles(inputId, outputId) {\n",
              "  const steps = uploadFilesStep(inputId, outputId);\n",
              "  const outputElement = document.getElementById(outputId);\n",
              "  // Cache steps on the outputElement to make it available for the next call\n",
              "  // to uploadFilesContinue from Python.\n",
              "  outputElement.steps = steps;\n",
              "\n",
              "  return _uploadFilesContinue(outputId);\n",
              "}\n",
              "\n",
              "// This is roughly an async generator (not supported in the browser yet),\n",
              "// where there are multiple asynchronous steps and the Python side is going\n",
              "// to poll for completion of each step.\n",
              "// This uses a Promise to block the python side on completion of each step,\n",
              "// then passes the result of the previous step as the input to the next step.\n",
              "function _uploadFilesContinue(outputId) {\n",
              "  const outputElement = document.getElementById(outputId);\n",
              "  const steps = outputElement.steps;\n",
              "\n",
              "  const next = steps.next(outputElement.lastPromiseValue);\n",
              "  return Promise.resolve(next.value.promise).then((value) => {\n",
              "    // Cache the last promise value to make it available to the next\n",
              "    // step of the generator.\n",
              "    outputElement.lastPromiseValue = value;\n",
              "    return next.value.response;\n",
              "  });\n",
              "}\n",
              "\n",
              "/**\n",
              " * Generator function which is called between each async step of the upload\n",
              " * process.\n",
              " * @param {string} inputId Element ID of the input file picker element.\n",
              " * @param {string} outputId Element ID of the output display.\n",
              " * @return {!Iterable<!Object>} Iterable of next steps.\n",
              " */\n",
              "function* uploadFilesStep(inputId, outputId) {\n",
              "  const inputElement = document.getElementById(inputId);\n",
              "  inputElement.disabled = false;\n",
              "\n",
              "  const outputElement = document.getElementById(outputId);\n",
              "  outputElement.innerHTML = '';\n",
              "\n",
              "  const pickedPromise = new Promise((resolve) => {\n",
              "    inputElement.addEventListener('change', (e) => {\n",
              "      resolve(e.target.files);\n",
              "    });\n",
              "  });\n",
              "\n",
              "  const cancel = document.createElement('button');\n",
              "  inputElement.parentElement.appendChild(cancel);\n",
              "  cancel.textContent = 'Cancel upload';\n",
              "  const cancelPromise = new Promise((resolve) => {\n",
              "    cancel.onclick = () => {\n",
              "      resolve(null);\n",
              "    };\n",
              "  });\n",
              "\n",
              "  // Wait for the user to pick the files.\n",
              "  const files = yield {\n",
              "    promise: Promise.race([pickedPromise, cancelPromise]),\n",
              "    response: {\n",
              "      action: 'starting',\n",
              "    }\n",
              "  };\n",
              "\n",
              "  cancel.remove();\n",
              "\n",
              "  // Disable the input element since further picks are not allowed.\n",
              "  inputElement.disabled = true;\n",
              "\n",
              "  if (!files) {\n",
              "    return {\n",
              "      response: {\n",
              "        action: 'complete',\n",
              "      }\n",
              "    };\n",
              "  }\n",
              "\n",
              "  for (const file of files) {\n",
              "    const li = document.createElement('li');\n",
              "    li.append(span(file.name, {fontWeight: 'bold'}));\n",
              "    li.append(span(\n",
              "        `(${file.type || 'n/a'}) - ${file.size} bytes, ` +\n",
              "        `last modified: ${\n",
              "            file.lastModifiedDate ? file.lastModifiedDate.toLocaleDateString() :\n",
              "                                    'n/a'} - `));\n",
              "    const percent = span('0% done');\n",
              "    li.appendChild(percent);\n",
              "\n",
              "    outputElement.appendChild(li);\n",
              "\n",
              "    const fileDataPromise = new Promise((resolve) => {\n",
              "      const reader = new FileReader();\n",
              "      reader.onload = (e) => {\n",
              "        resolve(e.target.result);\n",
              "      };\n",
              "      reader.readAsArrayBuffer(file);\n",
              "    });\n",
              "    // Wait for the data to be ready.\n",
              "    let fileData = yield {\n",
              "      promise: fileDataPromise,\n",
              "      response: {\n",
              "        action: 'continue',\n",
              "      }\n",
              "    };\n",
              "\n",
              "    // Use a chunked sending to avoid message size limits. See b/62115660.\n",
              "    let position = 0;\n",
              "    do {\n",
              "      const length = Math.min(fileData.byteLength - position, MAX_PAYLOAD_SIZE);\n",
              "      const chunk = new Uint8Array(fileData, position, length);\n",
              "      position += length;\n",
              "\n",
              "      const base64 = btoa(String.fromCharCode.apply(null, chunk));\n",
              "      yield {\n",
              "        response: {\n",
              "          action: 'append',\n",
              "          file: file.name,\n",
              "          data: base64,\n",
              "        },\n",
              "      };\n",
              "\n",
              "      let percentDone = fileData.byteLength === 0 ?\n",
              "          100 :\n",
              "          Math.round((position / fileData.byteLength) * 100);\n",
              "      percent.textContent = `${percentDone}% done`;\n",
              "\n",
              "    } while (position < fileData.byteLength);\n",
              "  }\n",
              "\n",
              "  // All done.\n",
              "  yield {\n",
              "    response: {\n",
              "      action: 'complete',\n",
              "    }\n",
              "  };\n",
              "}\n",
              "\n",
              "scope.google = scope.google || {};\n",
              "scope.google.colab = scope.google.colab || {};\n",
              "scope.google.colab._files = {\n",
              "  _uploadFiles,\n",
              "  _uploadFilesContinue,\n",
              "};\n",
              "})(self);\n",
              "</script> "
            ]
          },
          "metadata": {}
        },
        {
          "output_type": "stream",
          "name": "stdout",
          "text": [
            "Saving kaggle.json to kaggle.json\n"
          ]
        },
        {
          "output_type": "execute_result",
          "data": {
            "text/plain": [
              "{'kaggle.json': b'{\"username\":\"sfwsajal\",\"key\":\"442bd984473decb9792f939ea42ad598\"}'}"
            ]
          },
          "metadata": {},
          "execution_count": 6
        }
      ]
    },
    {
      "cell_type": "code",
      "source": [
        "!mkdir -p ~/.kaggle\n",
        "!cp kaggle.json ~/.kaggle/\n",
        "!chmod 600 ~/.kaggle/kaggle.json\n"
      ],
      "metadata": {
        "id": "SdAVQs4kB94G"
      },
      "execution_count": 7,
      "outputs": []
    },
    {
      "cell_type": "code",
      "source": [
        "!kaggle datasets download -d andradaolteanu/gtzan-dataset-music-genre-classification\n"
      ],
      "metadata": {
        "colab": {
          "base_uri": "https://localhost:8080/"
        },
        "id": "iupaV8I2CeKt",
        "outputId": "b61a74aa-7d73-406c-d1a5-70e25c0df145"
      },
      "execution_count": 8,
      "outputs": [
        {
          "output_type": "stream",
          "name": "stdout",
          "text": [
            "Dataset URL: https://www.kaggle.com/datasets/andradaolteanu/gtzan-dataset-music-genre-classification\n",
            "License(s): other\n",
            "Downloading gtzan-dataset-music-genre-classification.zip to /content\n",
            "100% 1.21G/1.21G [00:13<00:00, 161MB/s]\n",
            "100% 1.21G/1.21G [00:13<00:00, 97.4MB/s]\n"
          ]
        }
      ]
    },
    {
      "cell_type": "code",
      "source": [
        "import zipfile\n",
        "import os\n",
        "\n",
        "# Extracting the zip file\n",
        "with zipfile.ZipFile(\"gtzan-dataset-music-genre-classification.zip\", 'r') as zip_ref:\n",
        "    zip_ref.extractall(\"gtzan_data\")\n",
        "\n",
        "# Verify the contents\n",
        "os.listdir(\"gtzan_data\")\n"
      ],
      "metadata": {
        "colab": {
          "base_uri": "https://localhost:8080/"
        },
        "id": "JfgClduENhQb",
        "outputId": "a8899cf2-4272-4bd7-fa96-be5950c7859d"
      },
      "execution_count": 10,
      "outputs": [
        {
          "output_type": "execute_result",
          "data": {
            "text/plain": [
              "['Data']"
            ]
          },
          "metadata": {},
          "execution_count": 10
        }
      ]
    },
    {
      "cell_type": "code",
      "source": [
        "directory = \"/content/gtzan_data/Data/genres_original/\"\n",
        "f = open(\"my.dat\", 'wb')\n",
        "i = 0\n",
        "\n",
        "for folder in os.listdir(directory):\n",
        "    i += 1\n",
        "    if i == 11:\n",
        "        break  # Only process first 10 genres\n",
        "\n",
        "    genre_path = os.path.join(directory, folder)\n",
        "\n",
        "    for file in os.listdir(genre_path):\n",
        "        try:\n",
        "            if not file.endswith(\".wav\"):\n",
        "                continue  # Skip non-audio files\n",
        "\n",
        "            file_path = os.path.join(genre_path, file)\n",
        "\n",
        "            #  Loading WAV audio using scipy\n",
        "            rate, sig = wav.read(file_path)\n",
        "\n",
        "            # Extracting the MFCC features\n",
        "            mfcc_feat = mfcc(sig, rate, winlen=0.020, appendEnergy=False)\n",
        "            covariance = np.cov(np.transpose(mfcc_feat))\n",
        "            mean_vector = mfcc_feat.mean(0)\n",
        "\n",
        "            # Storing the (mean, covariance, label) as feature\n",
        "            feature = (mean_vector, covariance, i)\n",
        "            pickle.dump(feature, f)\n",
        "\n",
        "        except Exception as e:\n",
        "            print(f\"Error processing {file_path}: {e}\")\n",
        "\n",
        "f.close()\n"
      ],
      "metadata": {
        "colab": {
          "base_uri": "https://localhost:8080/"
        },
        "id": "luol44imNqWs",
        "outputId": "b36f8061-10a5-4c56-8d70-2d213beffd76"
      },
      "execution_count": 13,
      "outputs": [
        {
          "output_type": "stream",
          "name": "stdout",
          "text": [
            "Error processing /content/gtzan_data/Data/genres_original/jazz/jazz.00054.wav: File format b'\\xcb\\x15\\x1e\\x16' not understood. Only 'RIFF', 'RIFX', and 'RF64' supported.\n"
          ]
        }
      ]
    },
    {
      "cell_type": "code",
      "source": [
        "dataset = []\n",
        "def loadDataset(filename , split , trSet , teSet):\n",
        "    with open(\"my.dat\" , 'rb') as f:\n",
        "        while True:\n",
        "            try:\n",
        "                dataset.append(pickle.load(f))\n",
        "            except EOFError:\n",
        "                f.close()\n",
        "                break\n",
        "\n",
        "    for x in range(len(dataset)):\n",
        "        if random.random() <split :\n",
        "            trSet.append(dataset[x])\n",
        "        else:\n",
        "            teSet.append(dataset[x])\n",
        "\n",
        "trainingSet = []\n",
        "testSet = []\n",
        "loadDataset(\"my.dat\" , 0.8, trainingSet, testSet)"
      ],
      "metadata": {
        "id": "GufySFXkODWu"
      },
      "execution_count": 22,
      "outputs": []
    },
    {
      "cell_type": "code",
      "source": [
        "import numpy as np\n",
        "\n",
        "def distance(instance1, instance2, k):\n",
        "    mm1 = instance1[0]\n",
        "    cm1 = instance1[1]\n",
        "    mm2 = instance2[0]\n",
        "    cm2 = instance2[1]\n",
        "\n",
        "    # Bhattacharyya distance formula\n",
        "    dist = np.trace(np.dot(np.linalg.inv(cm2), cm1))\n",
        "    dist += np.dot(np.dot((mm2 - mm1).T, np.linalg.inv(cm2)), (mm2 - mm1))\n",
        "    dist += np.log(np.linalg.det(cm2)) - np.log(np.linalg.det(cm1))\n",
        "    dist -= k\n",
        "    return dist\n"
      ],
      "metadata": {
        "id": "fb--8deVQjzj"
      },
      "execution_count": 23,
      "outputs": []
    },
    {
      "cell_type": "code",
      "source": [
        "def getNeighbors(trainingSet, instance, k):\n",
        "    distances = []\n",
        "    for x in range (len(trainingSet)):\n",
        "        dist = distance(trainingSet[x], instance, k )+ distance(instance, trainingSet[x], k)\n",
        "        distances.append((trainingSet[x][2], dist))\n",
        "    distances.sort(key=operator.itemgetter(1))\n",
        "    neighbors = []\n",
        "    for x in range(k):\n",
        "        neighbors.append(distances[x][0])\n",
        "    return neighbors"
      ],
      "metadata": {
        "id": "j8cQ-7-VQwgX"
      },
      "execution_count": 24,
      "outputs": []
    },
    {
      "cell_type": "code",
      "source": [
        "leng = len(testSet)\n",
        "k_values = [1, 3, 5, 7, 9, 11]\n",
        "for k in k_values:\n",
        "    predictions = []\n",
        "    for x in range(len(testSet)):\n",
        "        neighbors = getNeighbors(trainingSet, testSet[x], k)\n",
        "        predictions.append(nearestClass(neighbors))\n",
        "\n",
        "    accuracy = getAccuracy(testSet, predictions)\n",
        "    print(f\"Accuracy for k = {k}: {accuracy:.4f}\")\n",
        "\n",
        "# predictions = []\n",
        "# for x in range (leng):\n",
        "#     predictions.append(nearestClass(getNeighbors(trainingSet ,testSet[x] , 5)))\n",
        "\n",
        "# accuracy1 = getAccuracy(testSet , predictions)\n",
        "# print(accuracy1)"
      ],
      "metadata": {
        "colab": {
          "base_uri": "https://localhost:8080/"
        },
        "id": "lHl35mwhPnTv",
        "outputId": "4f08c751-2c7b-4c75-b878-48556ff11b69"
      },
      "execution_count": 29,
      "outputs": [
        {
          "output_type": "stream",
          "name": "stdout",
          "text": [
            "Accuracy for k = 1: 0.7005\n",
            "Accuracy for k = 3: 0.7005\n",
            "Accuracy for k = 5: 0.7259\n",
            "Accuracy for k = 7: 0.7107\n",
            "Accuracy for k = 9: 0.6954\n",
            "Accuracy for k = 11: 0.6802\n"
          ]
        }
      ]
    },
    {
      "cell_type": "code",
      "source": [
        "# so above we can see we acheived the highest accuracy as 72.59% for k=5."
      ],
      "metadata": {
        "id": "6xH51ImygHz3"
      },
      "execution_count": null,
      "outputs": []
    },
    {
      "cell_type": "code",
      "source": [
        "from google.colab import files\n",
        "files.download(\"my.dat\")\n"
      ],
      "metadata": {
        "colab": {
          "base_uri": "https://localhost:8080/",
          "height": 17
        },
        "id": "3E76ioMqPpej",
        "outputId": "2229dc67-95aa-4026-8c9b-9451f8aba4d0"
      },
      "execution_count": 26,
      "outputs": [
        {
          "output_type": "display_data",
          "data": {
            "text/plain": [
              "<IPython.core.display.Javascript object>"
            ],
            "application/javascript": [
              "\n",
              "    async function download(id, filename, size) {\n",
              "      if (!google.colab.kernel.accessAllowed) {\n",
              "        return;\n",
              "      }\n",
              "      const div = document.createElement('div');\n",
              "      const label = document.createElement('label');\n",
              "      label.textContent = `Downloading \"${filename}\": `;\n",
              "      div.appendChild(label);\n",
              "      const progress = document.createElement('progress');\n",
              "      progress.max = size;\n",
              "      div.appendChild(progress);\n",
              "      document.body.appendChild(div);\n",
              "\n",
              "      const buffers = [];\n",
              "      let downloaded = 0;\n",
              "\n",
              "      const channel = await google.colab.kernel.comms.open(id);\n",
              "      // Send a message to notify the kernel that we're ready.\n",
              "      channel.send({})\n",
              "\n",
              "      for await (const message of channel.messages) {\n",
              "        // Send a message to notify the kernel that we're ready.\n",
              "        channel.send({})\n",
              "        if (message.buffers) {\n",
              "          for (const buffer of message.buffers) {\n",
              "            buffers.push(buffer);\n",
              "            downloaded += buffer.byteLength;\n",
              "            progress.value = downloaded;\n",
              "          }\n",
              "        }\n",
              "      }\n",
              "      const blob = new Blob(buffers, {type: 'application/binary'});\n",
              "      const a = document.createElement('a');\n",
              "      a.href = window.URL.createObjectURL(blob);\n",
              "      a.download = filename;\n",
              "      div.appendChild(a);\n",
              "      a.click();\n",
              "      div.remove();\n",
              "    }\n",
              "  "
            ]
          },
          "metadata": {}
        },
        {
          "output_type": "display_data",
          "data": {
            "text/plain": [
              "<IPython.core.display.Javascript object>"
            ],
            "application/javascript": [
              "download(\"download_879fa6cc-0083-4a8f-814c-9ef304dbdc72\", \"my.dat\", 1641357)"
            ]
          },
          "metadata": {}
        }
      ]
    },
    {
      "cell_type": "code",
      "source": [],
      "metadata": {
        "id": "OJIGeqWuZILY"
      },
      "execution_count": null,
      "outputs": []
    }
  ]
}