{
 "cells": [
  {
   "cell_type": "code",
   "execution_count": null,
   "metadata": {
    "_cell_guid": "b1076dfc-b9ad-4769-8c92-a6c4dae69d19",
    "_uuid": "8f2839f25d086af736a60e9eeb907d3b93b6e0e5",
    "execution": {
     "iopub.execute_input": "2025-06-26T17:56:11.310836Z",
     "iopub.status.busy": "2025-06-26T17:56:11.310638Z",
     "iopub.status.idle": "2025-06-26T17:56:11.326152Z",
     "shell.execute_reply": "2025-06-26T17:56:11.324991Z",
     "shell.execute_reply.started": "2025-06-26T17:56:11.310818Z"
    },
    "trusted": true
   },
   "outputs": [],
   "source": [
    "'''RUNNING THIS FILE IN KAGGLE'''\n",
    "\n",
    "import librosa\n",
    "import numpy as np\n",
    "import pickle\n",
    "from collections import Counter"
   ]
  },
  {
   "cell_type": "code",
   "execution_count": 2,
   "metadata": {
    "execution": {
     "iopub.execute_input": "2025-06-26T17:56:18.836507Z",
     "iopub.status.busy": "2025-06-26T17:56:18.835631Z",
     "iopub.status.idle": "2025-06-26T17:56:18.844321Z",
     "shell.execute_reply": "2025-06-26T17:56:18.843265Z",
     "shell.execute_reply.started": "2025-06-26T17:56:18.836471Z"
    },
    "trusted": true
   },
   "outputs": [],
   "source": [
    "# STEP 2: Define KNN functions\n",
    "def euclidean_distance(a, b):\n",
    "    return np.linalg.norm(a - b)\n",
    "\n",
    "def getNeighbors(X_train, y_train, test_instance, k):\n",
    "    distances = []\n",
    "    for i in range(len(X_train)):\n",
    "        dist = euclidean_distance(X_train[i], test_instance)\n",
    "        distances.append((y_train[i], dist))\n",
    "    distances.sort(key=lambda x: x[1])\n",
    "    neighbors = [distances[i][0] for i in range(k)]\n",
    "    return neighbors\n",
    "\n",
    "def nearestClass(neighbors):\n",
    "    vote_result = Counter(neighbors)\n",
    "    return vote_result.most_common(1)[0][0]"
   ]
  },
  {
   "cell_type": "code",
   "execution_count": 3,
   "metadata": {
    "execution": {
     "iopub.execute_input": "2025-06-26T17:56:43.836891Z",
     "iopub.status.busy": "2025-06-26T17:56:43.835965Z",
     "iopub.status.idle": "2025-06-26T17:56:43.902505Z",
     "shell.execute_reply": "2025-06-26T17:56:43.901730Z",
     "shell.execute_reply.started": "2025-06-26T17:56:43.836843Z"
    },
    "trusted": true
   },
   "outputs": [],
   "source": [
    "# STEP 3: Load the training dataset from my.dat\n",
    "dataset = []\n",
    "with open(\"/kaggle/input/myydata/myy.dat\", \"rb\") as f:\n",
    "    while True:\n",
    "        try:\n",
    "            dataset.append(pickle.load(f))\n",
    "        except EOFError:\n",
    "            break\n",
    "\n",
    "X_train = [x[0] for x in dataset]  # Feature vector (e.g., MFCC mean)\n",
    "y_train = [x[2] for x in dataset]  # Genre label"
   ]
  },
  {
   "cell_type": "code",
   "execution_count": 4,
   "metadata": {
    "execution": {
     "iopub.execute_input": "2025-06-26T17:57:30.235921Z",
     "iopub.status.busy": "2025-06-26T17:57:30.235649Z",
     "iopub.status.idle": "2025-06-26T17:57:46.576934Z",
     "shell.execute_reply": "2025-06-26T17:57:46.576043Z",
     "shell.execute_reply.started": "2025-06-26T17:57:30.235901Z"
    },
    "trusted": true
   },
   "outputs": [],
   "source": [
    "# STEP 4: Load your new audio file and extract features\n",
    "audio_path = \"/kaggle/input/gtzan-dataset-music-genre-classification/Data/genres_original/metal/metal.00000.wav\"  # Update this if your file has a different name\n",
    "\n",
    "y, sr = librosa.load(audio_path, sr=None)\n",
    "mfcc = librosa.feature.mfcc(y=y, sr=sr, n_mfcc=13)\n",
    "mfcc_mean = np.mean(mfcc, axis=1)  # Extract MFCC mean as feature vector"
   ]
  },
  {
   "cell_type": "code",
   "execution_count": 5,
   "metadata": {
    "execution": {
     "iopub.execute_input": "2025-06-26T17:57:51.555871Z",
     "iopub.status.busy": "2025-06-26T17:57:51.555487Z",
     "iopub.status.idle": "2025-06-26T17:57:51.569122Z",
     "shell.execute_reply": "2025-06-26T17:57:51.568317Z",
     "shell.execute_reply.started": "2025-06-26T17:57:51.555850Z"
    },
    "trusted": true
   },
   "outputs": [],
   "source": [
    "# STEP 5: Predict the genre using KNN\n",
    "neighbors = getNeighbors(X_train, y_train, mfcc_mean, k=5)\n",
    "prediction = nearestClass(neighbors)"
   ]
  },
  {
   "cell_type": "code",
   "execution_count": 6,
   "metadata": {
    "execution": {
     "iopub.execute_input": "2025-06-26T17:57:55.965886Z",
     "iopub.status.busy": "2025-06-26T17:57:55.965604Z",
     "iopub.status.idle": "2025-06-26T17:57:55.971393Z",
     "shell.execute_reply": "2025-06-26T17:57:55.970410Z",
     "shell.execute_reply.started": "2025-06-26T17:57:55.965867Z"
    },
    "trusted": true
   },
   "outputs": [
    {
     "name": "stdout",
     "output_type": "stream",
     "text": [
      "🎵 Predicted Genre: 2\n"
     ]
    }
   ],
   "source": [
    "# STEP 6: Output the result\n",
    "print(f\"🎵 Predicted Genre: {prediction}\")"
   ]
  },
  {
   "cell_type": "code",
   "execution_count": null,
   "metadata": {
    "trusted": true
   },
   "outputs": [],
   "source": []
  }
 ],
 "metadata": {
  "kaggle": {
   "accelerator": "none",
   "dataSources": [
    {
     "datasetId": 568973,
     "sourceId": 1032238,
     "sourceType": "datasetVersion"
    },
    {
     "datasetId": 7744195,
     "sourceId": 12287945,
     "sourceType": "datasetVersion"
    },
    {
     "datasetId": 7749187,
     "sourceId": 12294902,
     "sourceType": "datasetVersion"
    }
   ],
   "dockerImageVersionId": 31040,
   "isGpuEnabled": false,
   "isInternetEnabled": false,
   "language": "python",
   "sourceType": "notebook"
  },
  "kernelspec": {
   "display_name": "Python 3",
   "language": "python",
   "name": "python3"
  },
  "language_info": {
   "codemirror_mode": {
    "name": "ipython",
    "version": 3
   },
   "file_extension": ".py",
   "mimetype": "text/x-python",
   "name": "python",
   "nbconvert_exporter": "python",
   "pygments_lexer": "ipython3",
   "version": "3.11.11"
  }
 },
 "nbformat": 4,
 "nbformat_minor": 4
}
